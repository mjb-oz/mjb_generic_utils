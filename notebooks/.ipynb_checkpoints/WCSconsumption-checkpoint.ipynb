{
 "cells": [
  {
   "cell_type": "code",
   "execution_count": null,
   "metadata": {},
   "outputs": [],
   "source": [
    "# https://gist.github.com/adamsteer/66362f94fae75d012e234ae37c1c5c83\n",
    "\n",
    "from owslib.wcs import WebCoverageService as w\n",
    "from scipy.misc import imread\n",
    "import io\n",
    "## from https://gis.stackexchange.com/questions/41123/how-to-extract-a-wcs-layer-with-gdal-translate\n",
    "# wcs = wcs(url=\"http://dmcsee.org/cgi-bin/mapserv?map=/var/www/tmp/dmcsee_wms/dmcsee_wcs.map\",version=\"1.0.0\")\n",
    "# spi6 = w['SPI6']  #The layer I am interested in \n",
    "\n",
    "# for timep in spi6.timepositions :\n",
    "#    output = wcs.getCoverage('SPI6',time=[timep],bbox=(10.0,31.995,48.005,50),format='GTiff',CRS='EPSG:4326', WIDTH=380, HEIGHT=120)\n",
    "#    f = open(os.path.join(folder,'spi6_'+str(timep)+'.tiff'),'wb')\n",
    "#    f.write(output.read())\n",
    "#    f.close()\n",
    "\n",
    "epsg = 4326\n",
    "bh_header = bh_header.to_crs({'init':'epsg:{}'.format(epsg)})\n",
    "geom = bh_header.iloc[0]['geometry']\n",
    "(x, y) = geom.coords[0]\n",
    "bbox = [(x - 0.001), (y - 0.001), (x + 0.001), (y + 0.001)]\n",
    "wcs = w(url=\"http://services.ga.gov.au/gis/services/DEM_SRTM_1Second/MapServer/WCSServer\",version=\"1.0.0\")\n",
    "\n",
    "output = wcs.getCoverage('1', bbox=bbox, format='GeoTiff', CRS='EPSG:{}'.format(epsg), WIDTH = int(0.002/0.00027777778) , HEIGHT = int(0.002/0.00027777778))\n",
    "# output.geturl()\n",
    "# rasterio.open(output)\n",
    "arr = imread(io.BytesIO(output.read()),'rb')\n",
    "# arr\n",
    "# wcs = w(\"http://services.ga.gov.au/gis/services/DEM_SRTM_1Second/MapServer/WCSServer\")\n",
    "# print(wcs.contents)\n",
    "\n",
    "\n",
    "\n",
    "\n",
    "\n",
    "\n",
    "\n",
    "\n",
    "\n",
    "\n",
    "\n",
    "\n",
    "# http://gaservices.ga.gov.au/site_9/services/DEM_SRTM_1Second/MapServer/WCSServer?request=GetCapabilities&service=WCS\n",
    "\n",
    "# from owslib.wcs import WebCoverageService\n",
    "# wcs = WebCoverageService('http://dapds00.nci.org.au/thredds/wcs/some_file.nc')\n",
    "# ...\n",
    "# cvg = wcs.getCoverage(identifier='PV', timeSequence=['1986-08-21T23:18:16Z'], bbox=cm.boundingBoxWGS84, format='GeoTIFF')\n",
    "# ds = gdal.Open('/vsicurl_streaming/'+cvg.geturl(), gdal.GA_ReadOnly)\n",
    "# ds.ReadAsArray()\n",
    "\n",
    "# http://my.host.com/cgi-bin/mapserv?map=mywcs.map&SERVICE=wcs  &VERSION=1.0.0&REQUEST=GetCoverage&coverage=bathymetry&CRS=EPSG:42304&OX=-2200000,-712631,3072800,3840000\n",
    "#         &WIDTH=3199&HEIGHT=2833&FORMAT=GTiff\n",
    "        \n",
    "\n",
    "# http://gaservices.ga.gov.au/site_9/services/DEM_SRTM_1Second/MapServer/WCSServer?request=GetCapabilities&service=WCS"
   ]
  }
 ],
 "metadata": {
  "kernelspec": {
   "display_name": "Python 3",
   "language": "python",
   "name": "python3"
  },
  "language_info": {
   "codemirror_mode": {
    "name": "ipython",
    "version": 3
   },
   "file_extension": ".py",
   "mimetype": "text/x-python",
   "name": "python",
   "nbconvert_exporter": "python",
   "pygments_lexer": "ipython3",
   "version": "3.6.6"
  }
 },
 "nbformat": 4,
 "nbformat_minor": 2
}
